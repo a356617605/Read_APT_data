{
  "nbformat": 4,
  "nbformat_minor": 0,
  "metadata": {
    "colab": {
      "provenance": []
    },
    "kernelspec": {
      "name": "python3",
      "display_name": "Python 3"
    },
    "language_info": {
      "name": "python"
    }
  },
  "cells": [
    {
      "cell_type": "code",
      "execution_count": 1,
      "metadata": {
        "colab": {
          "base_uri": "https://localhost:8080/"
        },
        "id": "ktbQpxawHYYe",
        "outputId": "241706f5-9e6b-42e1-c278-a9ece9b6ffa9"
      },
      "outputs": [
        {
          "output_type": "stream",
          "name": "stdout",
          "text": [
            "Mounted at /content/gdrive\n"
          ]
        }
      ],
      "source": [
        "from google.colab import drive\n",
        "drive.mount('/content/gdrive')"
      ]
    },
    {
      "cell_type": "code",
      "source": [
        "%cd /content/gdrive/MyDrive/Colab Notebooks/ReadAPTdata"
      ],
      "metadata": {
        "colab": {
          "base_uri": "https://localhost:8080/"
        },
        "id": "vThRnEhyHlRG",
        "outputId": "b1938a14-cf19-4d37-a55e-02cdbc6328fb"
      },
      "execution_count": 2,
      "outputs": [
        {
          "output_type": "stream",
          "name": "stdout",
          "text": [
            "/content/gdrive/MyDrive/Colab Notebooks/ReadAPTdata\n"
          ]
        }
      ]
    },
    {
      "cell_type": "code",
      "source": [
        "import os\n",
        "import pandas as pd\n",
        "import numpy as np\n",
        "import glob\n",
        "import re"
      ],
      "metadata": {
        "id": "2ihOOjLnHqXV"
      },
      "execution_count": 9,
      "outputs": []
    },
    {
      "cell_type": "code",
      "source": [
        "def atom_filter(x, Atom_range):\n",
        "    check=pd.Series(np.zeros(shape=(len(x),), dtype=np.bool))\n",
        "    for i in range(len(Atom_range)):\n",
        "        check = check | \\\n",
        "                x['Da'].between(Atom_range['lower'][i], Atom_range['upper'][i], inclusive=True)\n",
        "    # print(check[~check].index    )\n",
        "    print(\"ATOM TOTAL = {}\".format(len(x[check][['x','y','z']])))\n",
        "    return x[check][['x','y','z']]\n",
        "\n",
        "def read_rrng(f):\n",
        "    with open(f,'r') as F:\n",
        "        rf = F.readlines()\n",
        "    #print(rf) # list of lines\n",
        "    patterns = re.compile(r'Ion([0-9]+)=([A-Za-z0-9]+).*|Range([0-9]+)=(\\d+.\\d+) +(\\d+.\\d+) +Vol:(\\d+.\\d+) +([A-Za-z:0-9 ]+) +Color:([A-Z0-9]{6})')\n",
        "    ions = [] # will be a list of tuples\n",
        "    rrngs = [] # will be a list of tuples\n",
        "    for line in rf:\n",
        "        m = patterns.search(line)\n",
        "        if m:\n",
        "            # print(m.groups()) # each group is a tuple\n",
        "            if m.groups()[0] is not None: # tuples to create ions df\n",
        "                ions.append(m.groups()[:2])\n",
        "            else: # tuples to create rrngs df\n",
        "                rrngs.append(m.groups()[2:])\n",
        "\n",
        "    ions = pd.DataFrame(ions, columns=['number','name'])\n",
        "    ions.set_index('number',inplace=True)\n",
        "\n",
        "    rrngs = pd.DataFrame(rrngs, columns=['number','lower','upper','vol','comp','colour'])\n",
        "    rrngs.set_index('number',inplace=True)\n",
        "    rrngs[['lower','upper','vol']] = rrngs[['lower','upper','vol']].astype(float)\n",
        "    rrngs[['comp','colour']] = rrngs[['comp','colour']].astype(str)\n",
        "    #print(ions.dtypes)\n",
        "    #print(rrngs.dtypes)\n",
        "    return ions, rrngs\n",
        "\n",
        "def get_csv_paths(path):\n",
        "    return glob.glob(os.path.join(path, \"*.csv\"))"
      ],
      "metadata": {
        "id": "VeTKdpimH_Jd"
      },
      "execution_count": 4,
      "outputs": []
    },
    {
      "cell_type": "code",
      "source": [
        "folder = os.path.join(os.getcwd(), 'data')\n",
        "csv_paths = get_csv_paths(folder)\n",
        "data = pd.read_csv(csv_paths[0],\n",
        "                   names=['x', 'y', 'z', 'Da'])\n",
        "\n",
        "rrange_file = '38280.RRNG'\n",
        "ions, rrngs = read_rrng(rrange_file)\n",
        "\n",
        "\n",
        "element_1_name = 'Cr'\n",
        "element_2_name = 'Co'\n",
        "element_3_name = 'Ni'\n",
        "element_4_name = 'Fe'\n",
        "element_5_name = 'Mn'\n",
        "element_1_range = rrngs[rrngs['comp']==element_1_name+':1']\n",
        "element_2_range = rrngs[rrngs['comp']==element_2_name+':1']\n",
        "element_3_range = rrngs[rrngs['comp']==element_3_name+':1']\n",
        "element_4_range = rrngs[rrngs['comp']==element_4_name+':1']\n",
        "element_5_range = rrngs[rrngs['comp']==element_5_name+':1']\n",
        "\n",
        "print(element_1_range)\n",
        "#print(element_2_range)\n",
        "\n"
      ],
      "metadata": {
        "colab": {
          "base_uri": "https://localhost:8080/"
        },
        "id": "Hrk0koCcH6UF",
        "outputId": "b12bda0f-fdc3-4191-ef16-258d02c77857"
      },
      "execution_count": 10,
      "outputs": [
        {
          "output_type": "stream",
          "name": "stdout",
          "text": [
            "         lower   upper      vol  comp  colour\n",
            "number                                       \n",
            "8       24.764  26.859  0.01201  Cr:1  FC501C\n"
          ]
        }
      ]
    },
    {
      "cell_type": "code",
      "source": [
        "element_1 = atom_filter(data, element_1_range)\n",
        "element_2 = atom_filter(data, element_2_range)\n",
        "element_3 = atom_filter(data, element_3_range)\n",
        "element_4 = atom_filter(data, element_4_range)\n",
        "element_5 = atom_filter(data, element_5_range)\n"
      ],
      "metadata": {
        "colab": {
          "base_uri": "https://localhost:8080/"
        },
        "id": "M6t5wsP7IxJW",
        "outputId": "38467919-7176-41f5-d29b-39cc59a7c07c"
      },
      "execution_count": 12,
      "outputs": [
        {
          "output_type": "stream",
          "name": "stderr",
          "text": [
            "<ipython-input-4-ea436ee78f55>:2: DeprecationWarning: `np.bool` is a deprecated alias for the builtin `bool`. To silence this warning, use `bool` by itself. Doing this will not modify any behavior and is safe. If you specifically wanted the numpy scalar type, use `np.bool_` here.\n",
            "Deprecated in NumPy 1.20; for more details and guidance: https://numpy.org/devdocs/release/1.20.0-notes.html#deprecations\n",
            "  check=pd.Series(np.zeros(shape=(len(x),), dtype=np.bool))\n",
            "<ipython-input-4-ea436ee78f55>:5: FutureWarning: Boolean inputs to the `inclusive` argument are deprecated in favour of `both` or `neither`.\n",
            "  x['Da'].between(Atom_range['lower'][i], Atom_range['upper'][i], inclusive=True)\n",
            "<ipython-input-4-ea436ee78f55>:2: DeprecationWarning: `np.bool` is a deprecated alias for the builtin `bool`. To silence this warning, use `bool` by itself. Doing this will not modify any behavior and is safe. If you specifically wanted the numpy scalar type, use `np.bool_` here.\n",
            "Deprecated in NumPy 1.20; for more details and guidance: https://numpy.org/devdocs/release/1.20.0-notes.html#deprecations\n",
            "  check=pd.Series(np.zeros(shape=(len(x),), dtype=np.bool))\n",
            "<ipython-input-4-ea436ee78f55>:5: FutureWarning: Boolean inputs to the `inclusive` argument are deprecated in favour of `both` or `neither`.\n",
            "  x['Da'].between(Atom_range['lower'][i], Atom_range['upper'][i], inclusive=True)\n"
          ]
        },
        {
          "output_type": "stream",
          "name": "stdout",
          "text": [
            "ATOM TOTAL = 469754\n",
            "ATOM TOTAL = 473516\n"
          ]
        },
        {
          "output_type": "stream",
          "name": "stderr",
          "text": [
            "<ipython-input-4-ea436ee78f55>:2: DeprecationWarning: `np.bool` is a deprecated alias for the builtin `bool`. To silence this warning, use `bool` by itself. Doing this will not modify any behavior and is safe. If you specifically wanted the numpy scalar type, use `np.bool_` here.\n",
            "Deprecated in NumPy 1.20; for more details and guidance: https://numpy.org/devdocs/release/1.20.0-notes.html#deprecations\n",
            "  check=pd.Series(np.zeros(shape=(len(x),), dtype=np.bool))\n",
            "<ipython-input-4-ea436ee78f55>:5: FutureWarning: Boolean inputs to the `inclusive` argument are deprecated in favour of `both` or `neither`.\n",
            "  x['Da'].between(Atom_range['lower'][i], Atom_range['upper'][i], inclusive=True)\n"
          ]
        },
        {
          "output_type": "stream",
          "name": "stdout",
          "text": [
            "ATOM TOTAL = 338429\n"
          ]
        },
        {
          "output_type": "stream",
          "name": "stderr",
          "text": [
            "<ipython-input-4-ea436ee78f55>:2: DeprecationWarning: `np.bool` is a deprecated alias for the builtin `bool`. To silence this warning, use `bool` by itself. Doing this will not modify any behavior and is safe. If you specifically wanted the numpy scalar type, use `np.bool_` here.\n",
            "Deprecated in NumPy 1.20; for more details and guidance: https://numpy.org/devdocs/release/1.20.0-notes.html#deprecations\n",
            "  check=pd.Series(np.zeros(shape=(len(x),), dtype=np.bool))\n",
            "<ipython-input-4-ea436ee78f55>:5: FutureWarning: Boolean inputs to the `inclusive` argument are deprecated in favour of `both` or `neither`.\n",
            "  x['Da'].between(Atom_range['lower'][i], Atom_range['upper'][i], inclusive=True)\n",
            "<ipython-input-4-ea436ee78f55>:2: DeprecationWarning: `np.bool` is a deprecated alias for the builtin `bool`. To silence this warning, use `bool` by itself. Doing this will not modify any behavior and is safe. If you specifically wanted the numpy scalar type, use `np.bool_` here.\n",
            "Deprecated in NumPy 1.20; for more details and guidance: https://numpy.org/devdocs/release/1.20.0-notes.html#deprecations\n",
            "  check=pd.Series(np.zeros(shape=(len(x),), dtype=np.bool))\n"
          ]
        },
        {
          "output_type": "stream",
          "name": "stdout",
          "text": [
            "ATOM TOTAL = 590635\n",
            "ATOM TOTAL = 267857\n",
            "469754\n"
          ]
        },
        {
          "output_type": "stream",
          "name": "stderr",
          "text": [
            "<ipython-input-4-ea436ee78f55>:5: FutureWarning: Boolean inputs to the `inclusive` argument are deprecated in favour of `both` or `neither`.\n",
            "  x['Da'].between(Atom_range['lower'][i], Atom_range['upper'][i], inclusive=True)\n"
          ]
        }
      ]
    }
  ]
}